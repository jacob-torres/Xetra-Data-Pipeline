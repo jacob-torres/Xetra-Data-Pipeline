{
 "cells": [
  {
   "cell_type": "markdown",
   "metadata": {},
   "source": [
    "# Xetra Data Exploration\n",
    "\n",
    "## Imports\n"
   ]
  },
  {
   "cell_type": "code",
   "execution_count": 1,
   "metadata": {},
   "outputs": [],
   "source": [
    "import boto3\n",
    "import pandas as pd\n",
    "from io import StringIO"
   ]
  },
  {
   "cell_type": "markdown",
   "metadata": {},
   "source": [
    "## Getting S3 Data"
   ]
  },
  {
   "cell_type": "code",
   "execution_count": 2,
   "metadata": {},
   "outputs": [],
   "source": [
    "bucket_name = 'deutsche-boerse-xetra-pds'\n",
    "s3 = boto3.resource('s3')\n",
    "bucket = s3.Bucket(bucket_name)"
   ]
  },
  {
   "cell_type": "code",
   "execution_count": 3,
   "metadata": {},
   "outputs": [
    {
     "data": {
      "text/plain": [
       "[s3.ObjectSummary(bucket_name='deutsche-boerse-xetra-pds', key='2022-04-20/2022-04-20_BINS_XETR00.csv'),\n",
       " s3.ObjectSummary(bucket_name='deutsche-boerse-xetra-pds', key='2022-04-20/2022-04-20_BINS_XETR01.csv'),\n",
       " s3.ObjectSummary(bucket_name='deutsche-boerse-xetra-pds', key='2022-04-20/2022-04-20_BINS_XETR02.csv'),\n",
       " s3.ObjectSummary(bucket_name='deutsche-boerse-xetra-pds', key='2022-04-20/2022-04-20_BINS_XETR03.csv'),\n",
       " s3.ObjectSummary(bucket_name='deutsche-boerse-xetra-pds', key='2022-04-20/2022-04-20_BINS_XETR04.csv')]"
      ]
     },
     "execution_count": 3,
     "metadata": {},
     "output_type": "execute_result"
    }
   ],
   "source": [
    "sample_date = '2022-04-20'\n",
    "sample_obj = bucket.objects.filter(Prefix=sample_date)\n",
    "objects = [obj for obj in sample_obj]\n",
    "\n",
    "objects[:5]"
   ]
  },
  {
   "cell_type": "code",
   "execution_count": null,
   "metadata": {},
   "outputs": [],
   "source": []
  }
 ],
 "metadata": {
  "kernelspec": {
   "display_name": "xetra_etl-RTIGygJI",
   "language": "python",
   "name": "xetra_etl-rtigygji"
  },
  "language_info": {
   "codemirror_mode": {
    "name": "ipython",
    "version": 3
   },
   "file_extension": ".py",
   "mimetype": "text/x-python",
   "name": "python",
   "nbconvert_exporter": "python",
   "pygments_lexer": "ipython3",
   "version": "3.9.5"
  }
 },
 "nbformat": 4,
 "nbformat_minor": 4
}
